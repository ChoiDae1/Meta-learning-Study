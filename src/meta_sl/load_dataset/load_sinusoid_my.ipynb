{
 "cells": [
  {
   "cell_type": "code",
   "execution_count": 10,
   "metadata": {},
   "outputs": [],
   "source": [
    "import warnings\n",
    "from typing import Any, Dict, Tuple\n",
    "\n",
    "import torch\n",
    "from torchmeta.toy import Sinusoid\n",
    "from torchmeta.utils.data import BatchMetaDataLoader\n",
    "\n",
    "warnings.filterwarnings(action='ignore')"
   ]
  },
  {
   "cell_type": "code",
   "execution_count": 11,
   "metadata": {},
   "outputs": [],
   "source": [
    "def get_dataloader(\n",
    "    config: Dict[str, Any]\n",
    ") -> Tuple[BatchMetaDataLoader, BatchMetaDataLoader, BatchMetaDataLoader]: # -> 주석을 의미\n",
    "    train_dataset = Sinusoid(\n",
    "        num_samples_per_task=config[\"num_shots\"] * 2, # 하나의 task는 support set과 query set으로 나누어야 함으로 2를 미리 곱해줌.\n",
    "        num_tasks=config[\"num_batches_train\"] * config[\"batch_size\"],\n",
    "        noise_std = None,\n",
    "    )\n",
    "    train_dataloader = BatchMetaDataLoader(train_dataset, batch_size=config[\"batch_size\"])\n",
    "\n",
    "    val_dataset = Sinusoid(\n",
    "        num_samples_per_task=config[\"num_shots\"] * 2,\n",
    "        num_tasks=config[\"num_batches_val\"] * config[\"batch_size\"],\n",
    "        noise_std = None,\n",
    "    )\n",
    "    val_dataloader = BatchMetaDataLoader(val_dataset, batch_size=config[\"batch_size\"])\n",
    "\n",
    "    test_dataset = Sinusoid(\n",
    "        num_samples_per_task=config[\"num_shots\"] * 2,\n",
    "        num_tasks=config[\"num_batches_test\"] * config[\"batch_size\"],\n",
    "        noise_std = None,\n",
    "    )\n",
    "    test_dataloader = BatchMetaDataLoader(test_dataset, batch_size=config[\"batch_size\"])\n",
    "\n",
    "    return train_dataloader, val_dataloader, test_dataloader"
   ]
  },
  {
   "cell_type": "code",
   "execution_count": 12,
   "metadata": {},
   "outputs": [],
   "source": [
    "import torch\n",
    "\n",
    "# 메타 지도 학습 회귀 task는 N-way라는 개념이 존재하지 않음. N은 클레스의 개수임. \n",
    "config = {\n",
    "    \"folder_name\": \"dataset\",\n",
    "    \"num_shots\": 5,\n",
    "    \"batch_size\": 3,\n",
    "    \"num_batches_train\": 6000,\n",
    "    \"num_batches_test\": 2000,\n",
    "    \"num_batches_val\": 100,\n",
    "    \"device\": torch.device( \"cpu\" if torch.cuda.is_available() else \"cpu\" ), # \"cuda\" or \"cpu\"\n",
    "}\n",
    "\n",
    "train_dataloader, val_dataloader, test_dataloader = get_dataloader(config)"
   ]
  },
  {
   "cell_type": "code",
   "execution_count": 16,
   "metadata": {},
   "outputs": [
    {
     "name": "stdout",
     "output_type": "stream",
     "text": [
      "torch.Size([3, 10, 1])\n",
      "support_x shape : torch.Size([3, 5, 1])\n",
      " support_y shape : torch.Size([3, 5, 1])\n",
      " query_x shape   : torch.Size([3, 5, 1])\n",
      " query_y shape   : torch.Size([3, 5, 1])\n",
      "tensor([4.5216])\n",
      "tensor([-0.3021])\n"
     ]
    }
   ],
   "source": [
    "for batch_idx, batch in enumerate(train_dataloader):\n",
    "    xs, ys = batch # batch는 리스트 형태임\n",
    "    print(xs.shape)\n",
    "    support_xs = xs[:, : config[\"num_shots\"], :].to(device=config[\"device\"]).type(torch.float)\n",
    "    query_xs = xs[:, config[\"num_shots\"]:, :].to(device=config[\"device\"]).type(torch.float)\n",
    "    support_ys = ys[:, : config[\"num_shots\"], :].to(device=config[\"device\"]).type(torch.float)\n",
    "    query_ys= ys[:, config[\"num_shots\"]:, :].to(device=config[\"device\"]).type(torch.float)\n",
    "\n",
    "    print(\n",
    "        f\"support_x shape : {support_xs.shape}\\n\",  # [3, 5, 1] ->  (batch_size, num_shot, 1(=x좌표))\n",
    "        f\"support_y shape : {support_ys.shape}\\n\",  # [3, 5, 1] ->  (batch_size, num_shot, 1(=y좌표))\n",
    "        f\"query_x shape   : {query_xs.shape}\\n\",    # [3, 5, 1]\n",
    "        f\"query_y shape   : {query_ys.shape}\",      # [3, 5, 1]\n",
    "    )\n",
    "    \n",
    "    break"
   ]
  },
  {
   "cell_type": "code",
   "execution_count": null,
   "metadata": {},
   "outputs": [],
   "source": []
  }
 ],
 "metadata": {
  "kernelspec": {
   "display_name": "meta",
   "language": "python",
   "name": "python3"
  },
  "language_info": {
   "codemirror_mode": {
    "name": "ipython",
    "version": 3
   },
   "file_extension": ".py",
   "mimetype": "text/x-python",
   "name": "python",
   "nbconvert_exporter": "python",
   "pygments_lexer": "ipython3",
   "version": "3.8.8"
  },
  "orig_nbformat": 4,
  "vscode": {
   "interpreter": {
    "hash": "543a2858b738eacd0ac3a1925ec6f5fb4c9073862b17acbfaa542a46096ac3bd"
   }
  }
 },
 "nbformat": 4,
 "nbformat_minor": 2
}
