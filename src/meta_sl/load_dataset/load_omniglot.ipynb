{
 "cells": [
  {
   "cell_type": "code",
   "execution_count": 1,
   "metadata": {
    "id": "uBnK7YdhqWgl"
   },
   "outputs": [],
   "source": [
    "import warnings\n",
    "from typing import Any, Dict, Tuple\n",
    "\n",
    "import matplotlib.pyplot as plt\n",
    "from torchmeta.datasets.helpers import omniglot\n",
    "from torchmeta.utils.data import BatchMetaDataLoader\n",
    "\n",
    "warnings.filterwarnings(action=\"ignore\")"
   ]
  },
  {
   "cell_type": "code",
   "execution_count": 2,
   "metadata": {
    "id": "yGHBx4-lqWop"
   },
   "outputs": [],
   "source": [
    "def get_dataloader(\n",
    "    config: Dict[str, Any]\n",
    ") -> Tuple[BatchMetaDataLoader, BatchMetaDataLoader, BatchMetaDataLoader]:\n",
    "    train_dataset = omniglot(\n",
    "        folder=config[\"folder_name\"],\n",
    "        shots=config[\"num_shots\"],\n",
    "        # test_shots=1, # default = shots\n",
    "        ways=config[\"num_ways\"],\n",
    "        shuffle=True,\n",
    "        meta_train=True,\n",
    "        download=config[\"download\"],\n",
    "    )\n",
    "    train_dataloader = BatchMetaDataLoader(\n",
    "        train_dataset, batch_size=config[\"batch_size\"], shuffle=True, num_workers=1\n",
    "    )\n",
    "\n",
    "    val_dataset = omniglot(\n",
    "        folder=config[\"folder_name\"],\n",
    "        shots=config[\"num_shots\"],\n",
    "        # test_shots=1, # default = shots\n",
    "        ways=config[\"num_ways\"],\n",
    "        shuffle=True,\n",
    "        meta_val=True,\n",
    "        download=config[\"download\"],\n",
    "    )\n",
    "    val_dataloader = BatchMetaDataLoader(\n",
    "        val_dataset, batch_size=config[\"batch_size\"], shuffle=True, num_workers=1\n",
    "    )\n",
    "\n",
    "    test_dataset = omniglot(\n",
    "        folder=config[\"folder_name\"],\n",
    "        shots=config[\"num_shots\"],\n",
    "        # test_shots=1, # default = shots\n",
    "        ways=config[\"num_ways\"],\n",
    "        shuffle=True,\n",
    "        meta_test=True,\n",
    "        download=config[\"download\"],\n",
    "    )\n",
    "    test_dataloader = BatchMetaDataLoader(\n",
    "        test_dataset, batch_size=config[\"batch_size\"], shuffle=True, num_workers=1\n",
    "    )\n",
    "\n",
    "    return train_dataloader, val_dataloader, test_dataloader"
   ]
  },
  {
   "cell_type": "code",
   "execution_count": 3,
   "metadata": {
    "id": "NVNNMzudqgss"
   },
   "outputs": [],
   "source": [
    "config = {\n",
    "    \"folder_name\": \"dataset\",\n",
    "    \"download\": True,\n",
    "    \"num_shots\": 2,\n",
    "    \"num_ways\": 5,\n",
    "    \"batch_size\": 3,\n",
    "    \"num_batches_train\": 6000,\n",
    "    \"num_batches_test\": 2000,\n",
    "    \"num_batches_val\": 100,\n",
    "    \"device\": \"cpu\",  # \"cuda\" or \"cpu\"\n",
    "}\n",
    "\n",
    "train_dataloader, val_dataloader, test_dataloader = get_dataloader(config)"
   ]
  },
  {
   "cell_type": "code",
   "execution_count": 4,
   "metadata": {
    "colab": {
     "base_uri": "https://localhost:8080/"
    },
    "executionInfo": {
     "elapsed": 256,
     "status": "ok",
     "timestamp": 1629621359099,
     "user": {
      "displayName": "Luna Jang",
      "photoUrl": "https://lh3.googleusercontent.com/a-/AOh14GiBq_mQ3pvg1aATbjbemG_YdHPPMMsRmQcVaghkug=s64",
      "userId": "06164029183671863730"
     },
     "user_tz": -540
    },
    "id": "GhJZFb2w_xzZ",
    "outputId": "0f0daf6e-7ffe-46da-e4f8-3810dccc9be7"
   },
   "outputs": [
    {
     "name": "stdout",
     "output_type": "stream",
     "text": [
      "support_x shape : torch.Size([3, 10, 1, 28, 28])\n",
      " support_y shape : torch.Size([3, 10])\n",
      " query_x shape   : torch.Size([3, 10, 1, 28, 28])\n",
      " query_y shape   : torch.Size([3, 10])\n"
     ]
    }
   ],
   "source": [
    "for batch_idx, batch in enumerate(train_dataloader):\n",
    "    if batch_idx >= config[\"num_batches_train\"]:\n",
    "        break\n",
    "\n",
    "    support_xs = batch[\"train\"][0].to(device=config[\"device\"])\n",
    "    support_ys = batch[\"train\"][1].to(device=config[\"device\"])\n",
    "    query_xs = batch[\"test\"][0].to(device=config[\"device\"])\n",
    "    query_ys = batch[\"test\"][1].to(device=config[\"device\"])\n",
    "\n",
    "    print(\n",
    "        f\"support_x shape : {support_xs.shape}\\n\",\n",
    "        f\"support_y shape : {support_ys.shape}\\n\",\n",
    "        f\"query_x shape   : {query_xs.shape}\\n\",\n",
    "        f\"query_y shape   : {query_ys.shape}\",\n",
    "    )\n",
    "\n",
    "    break"
   ]
  },
  {
   "cell_type": "code",
   "execution_count": 5,
   "metadata": {
    "colab": {
     "base_uri": "https://localhost:8080/",
     "height": 914
    },
    "executionInfo": {
     "elapsed": 8650,
     "status": "ok",
     "timestamp": 1629621373439,
     "user": {
      "displayName": "Luna Jang",
      "photoUrl": "https://lh3.googleusercontent.com/a-/AOh14GiBq_mQ3pvg1aATbjbemG_YdHPPMMsRmQcVaghkug=s64",
      "userId": "06164029183671863730"
     },
     "user_tz": -540
    },
    "id": "_pZTg6zN_0gL",
    "outputId": "01377f27-c52e-458b-8acd-8a2dfb4115ee"
   },
   "outputs": [
    {
     "ename": "",
     "evalue": "",
     "output_type": "error",
     "traceback": [
      "\u001b[1;31mCanceled future for execute_request message before replies were done"
     ]
    },
    {
     "ename": "",
     "evalue": "",
     "output_type": "error",
     "traceback": [
      "\u001b[1;31m현재 셀 또는 이전 셀에서 코드를 실행하는 동안 Kernel이 충돌했습니다. 셀의 코드를 검토하여 오류의 가능한 원인을 식별하세요. 자세한 내용을 보려면 <a href='https://aka.ms/vscodeJupyterKernelCrash'> 여기 </a> 를 클릭하세요. 자세한 내용은 Jupyter <a href='command:jupyter.viewOutput'>로그</a>를 참조하세요."
     ]
    }
   ],
   "source": [
    "for b in range(config[\"batch_size\"]):\n",
    "    fig = plt.figure(constrained_layout=True, figsize=(18, 4))\n",
    "    subfigs = fig.subfigures(1, 2, wspace=0.07)\n",
    "\n",
    "    subfigs[0].set_facecolor(\"0.75\")\n",
    "    subfigs[0].suptitle(\"Support set\", fontsize=\"x-large\")\n",
    "    support_axs = subfigs.flat[0].subplots(nrows=2, ncols=5)\n",
    "    for i, ax in enumerate(support_axs.T.flatten()):\n",
    "        ax.imshow(support_xs[b][i].permute(1, 2, 0).squeeze(), aspect=\"auto\")\n",
    "\n",
    "    subfigs[1].set_facecolor(\"0.75\")\n",
    "    subfigs[1].suptitle(\"Query set\", fontsize=\"x-large\")\n",
    "    query_axes = subfigs.flat[1].subplots(nrows=2, ncols=5)\n",
    "    for i, ax in enumerate(query_axes.T.flatten()):\n",
    "        ax.imshow(query_xs[b][i].permute(1, 2, 0).squeeze(), aspect=\"auto\")\n",
    "\n",
    "    fig.suptitle(\"Batch \" + str(b), fontsize=\"xx-large\")\n",
    "\n",
    "    plt.show()"
   ]
  },
  {
   "cell_type": "code",
   "execution_count": null,
   "metadata": {},
   "outputs": [],
   "source": []
  }
 ],
 "metadata": {
  "colab": {
   "authorship_tag": "ABX9TyM9C1O/iwA+vsrl6tTsg7Yo",
   "collapsed_sections": [],
   "name": "load_omniglot.ipynb",
   "provenance": []
  },
  "kernelspec": {
   "display_name": "meta",
   "language": "python",
   "name": "python3"
  },
  "language_info": {
   "codemirror_mode": {
    "name": "ipython",
    "version": 3
   },
   "file_extension": ".py",
   "mimetype": "text/x-python",
   "name": "python",
   "nbconvert_exporter": "python",
   "pygments_lexer": "ipython3",
   "version": "3.8.8 (default, Apr 13 2021, 15:08:03) [MSC v.1916 64 bit (AMD64)]"
  },
  "vscode": {
   "interpreter": {
    "hash": "543a2858b738eacd0ac3a1925ec6f5fb4c9073862b17acbfaa542a46096ac3bd"
   }
  }
 },
 "nbformat": 4,
 "nbformat_minor": 0
}
